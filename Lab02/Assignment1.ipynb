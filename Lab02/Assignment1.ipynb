{
  "cells": [
    {
      "cell_type": "markdown",
      "metadata": {
        "id": "view-in-github",
        "colab_type": "text"
      },
      "source": [
        "<a href=\"https://colab.research.google.com/github/dar1acraciun/Retele-Neuronale-Fii/blob/main/Lab02/Assignment1.ipynb\" target=\"_parent\"><img src=\"https://colab.research.google.com/assets/colab-badge.svg\" alt=\"Open In Colab\"/></a>"
      ]
    },
    {
      "cell_type": "markdown",
      "metadata": {
        "id": "Cpvp-l2mlEkr"
      },
      "source": [
        "<a target=\"_blank\" href=\"https://colab.research.google.com/github/Tensor-Reloaded/Neural-Networks-Template-2025/blob/main/Lab02/Assignment1.ipynb\">\n",
        "  <img src=\"https://colab.research.google.com/assets/colab-badge.svg\" alt=\"Open In Colab\"/>\n",
        "</a>"
      ]
    },
    {
      "cell_type": "markdown",
      "metadata": {
        "id": "qTw_kXqulEku"
      },
      "source": [
        "# **Assignment 1 (10 points)**"
      ]
    },
    {
      "cell_type": "markdown",
      "metadata": {
        "vscode": {
          "languageId": "plaintext"
        },
        "id": "dSC61XJalEkv"
      },
      "source": [
        "## **Solving a linear system in python**"
      ]
    },
    {
      "cell_type": "markdown",
      "metadata": {
        "vscode": {
          "languageId": "plaintext"
        },
        "id": "cfSFaDfZlEkv"
      },
      "source": [
        "In this homework, you will familiarize yourself with key linear algebra con-\n",
        "cepts and Python programming by solving a system of linear equations. You\n",
        "will explore multiple methods for solving such systems, including Cramer’s rule\n",
        "and matrix inversion. By the end of this assignment, you will have a good un-\n",
        "derstanding of how to represent and manipulate matrices and vectors in Python."
      ]
    },
    {
      "cell_type": "markdown",
      "metadata": {
        "vscode": {
          "languageId": "plaintext"
        },
        "id": "NE1G3buDlEkw"
      },
      "source": [
        "We begin with the following system of 3 linear equations with 3 unknowns:\n",
        "$$ 2x + 3y - z = 5 $$\n",
        "$$ x - y + 4z = 6 $$\n",
        "$$ 3x + y + 2z = 7 $$\n",
        "\n",
        "This system can be vectorized in the following form:\n",
        "$$ A \\cdot X = B $$\n",
        "where:\n",
        "$$\n",
        "A = \\begin{bmatrix}\n",
        "2 & 3 & -1 \\\\\n",
        "1 & -1 & 4 \\\\\n",
        "3 & 1 & 2\n",
        "\\end{bmatrix}, \\quad\n",
        "X = \\begin{bmatrix}\n",
        "x \\\\\n",
        "y \\\\\n",
        "z\n",
        "\\end{bmatrix}, \\quad\n",
        "B = \\begin{bmatrix}\n",
        "5 \\\\\n",
        "6 \\\\\n",
        "7\n",
        "\\end{bmatrix}\n",
        "$$\n",
        "\n",
        "**Considerations**\n",
        "- do not use any linear algebra framework such as $numpy$\n",
        "- use python lists as data structures for matrices and vectors\n",
        "- experiment with other values for the coefficients and free terms"
      ]
    },
    {
      "cell_type": "markdown",
      "metadata": {
        "vscode": {
          "languageId": "plaintext"
        },
        "id": "jiE_CCKMlEkw"
      },
      "source": [
        "### **1. Parsing the System of Equations (1 point)**"
      ]
    },
    {
      "cell_type": "markdown",
      "metadata": {
        "vscode": {
          "languageId": "plaintext"
        },
        "id": "7vgMV9fjlEkx"
      },
      "source": [
        "The first task is to implement a Python script that reads a system of linear equations from a text file and parses it into a matrix $A$ and a vector $B$. You will use the input format described below to extract the coefficients for $A$ and $B$.\n",
        "\n",
        "**Input File Format**\n",
        "```text\n",
        "2x + 3y - z = 5\n",
        "x - y + 4z = 6\n",
        "3x + y + 2z = 7\n",
        "```\n",
        "\n",
        "Note that the coefficients are always in the order x, y and z and the terms are always space separated"
      ]
    },
    {
      "cell_type": "code",
      "execution_count": 41,
      "metadata": {
        "id": "V0ydZN84lEkx",
        "outputId": "8ee09f52-c1ff-463d-9c29-9e75c601b32d",
        "colab": {
          "base_uri": "https://localhost:8080/"
        }
      },
      "outputs": [
        {
          "output_type": "stream",
          "name": "stdout",
          "text": [
            "A=[[2.0, 3.0, -1.0], [1.0, -1.0, 4.0], [3.0, 1.0, 2.0]] B=[5.0, 6.0, 7.0]\n"
          ]
        }
      ],
      "source": [
        "import pathlib\n",
        "\n",
        "def load_system(path: pathlib.Path) -> tuple[list[list[float]], list[float]]:\n",
        "    import pathlib\n",
        "import re\n",
        "def load_system(path: pathlib.Path) -> tuple[list[list[float]], list[float]]:\n",
        "    file=open(path)\n",
        "    content = file.read()\n",
        "    rows=content.split('\\n')\n",
        "    A=[]\n",
        "    B=[]\n",
        "    for i,row in enumerate(rows):\n",
        "         row_r = row.replace(\"-\", \"+-\")\n",
        "         row_r=row_r.replace(\" \",\"\")\n",
        "         numbers=re.split(r\"[+\\=]\", row_r)\n",
        "         coef=[]\n",
        "         for number in numbers:\n",
        "            if number == \"x\":\n",
        "                    number = \"1x\"\n",
        "            elif number == \"-x\":\n",
        "                    number = \"-1x\"\n",
        "            elif number == \"y\":\n",
        "                    number = \"1y\"\n",
        "            elif number == \"-y\":\n",
        "                    number = \"-1y\"\n",
        "            elif number == \"z\":\n",
        "                    number = \"1z\"\n",
        "            elif number == \"-z\":\n",
        "                    number = \"-1z\"\n",
        "            val = re.split(r\"[xyz]\", number)[0]\n",
        "            coef.append(float(val))\n",
        "         B.append(coef.pop())\n",
        "         A.append(coef)\n",
        "\n",
        "    return A,B\n",
        "\n",
        "A, B = load_system(pathlib.Path(\"system.txt\"))\n",
        "print(f\"{A=} {B=}\")"
      ]
    },
    {
      "cell_type": "markdown",
      "metadata": {
        "vscode": {
          "languageId": "plaintext"
        },
        "id": "qAz9YXCKlEk0"
      },
      "source": [
        "### **2. Matrix and Vector Operations (5 points)**"
      ]
    },
    {
      "cell_type": "markdown",
      "metadata": {
        "vscode": {
          "languageId": "plaintext"
        },
        "id": "RlECyjJclEk0"
      },
      "source": [
        "Once you have successfully parsed the matrix and vector, complete the following exercises to manipulate and understand basic matrix and vector operations. Write Python functions for each of these tasks:"
      ]
    },
    {
      "cell_type": "markdown",
      "metadata": {
        "vscode": {
          "languageId": "plaintext"
        },
        "id": "qUXf2PovlEk0"
      },
      "source": [
        "#### 2.1. Determinant"
      ]
    },
    {
      "cell_type": "markdown",
      "metadata": {
        "vscode": {
          "languageId": "plaintext"
        },
        "id": "htQfDEW0lEk0"
      },
      "source": [
        "Write a function to compute the determinant of matrix $A$. Recall one of the formulae for the determinant of a $3x3$ matrix:\n",
        "$$ \\text{det}(A) = a_{11}(a_{22}a_{33} - a_{23}a_{32}) - a_{12}(a_{21}a_{33} - a_{23}a_{31}) + a_{13}(a_{21}a_{32} - a_{22}a_{31}) $$"
      ]
    },
    {
      "cell_type": "code",
      "execution_count": 16,
      "metadata": {
        "id": "rzUYHrOrlEk1",
        "outputId": "cf645f29-293f-444a-b04a-09222be77811",
        "colab": {
          "base_uri": "https://localhost:8080/"
        }
      },
      "outputs": [
        {
          "output_type": "stream",
          "name": "stdout",
          "text": [
            "determinant(A)=14.0\n"
          ]
        }
      ],
      "source": [
        "def determinant(matrix: list[list[float]]) -> float:\n",
        "    a11, a12, a13 = matrix[0]\n",
        "    a21, a22, a23 = matrix[1]\n",
        "    a31, a32, a33 = matrix[2]\n",
        "\n",
        "    det = (\n",
        "        a11 * (a22 * a33 - a23 * a32)\n",
        "        - a12 * (a21 * a33 - a23 * a31)\n",
        "        + a13 * (a21 * a32 - a22 * a31)\n",
        "    )\n",
        "    return det\n",
        "\n",
        "print(f\"{determinant(A)=}\")"
      ]
    },
    {
      "cell_type": "markdown",
      "metadata": {
        "id": "mhv41utPlEk1"
      },
      "source": [
        "#### 2.2. Trace"
      ]
    },
    {
      "cell_type": "markdown",
      "metadata": {
        "id": "VlRyDR7HlEk1"
      },
      "source": [
        "Compute the sum of the elements along the main diagonal of matrix $A$. For a matrix $A$, this is:\n",
        "$$ \\text{Trace}(A) = a_{11} + a_{22} + a_{33} $$"
      ]
    },
    {
      "cell_type": "code",
      "execution_count": 21,
      "metadata": {
        "id": "PfEXVpB8lEk1",
        "outputId": "351e0374-dbb9-49cc-9178-acf64fe2afdd",
        "colab": {
          "base_uri": "https://localhost:8080/"
        }
      },
      "outputs": [
        {
          "output_type": "stream",
          "name": "stdout",
          "text": [
            "trace(A)=3.0\n"
          ]
        }
      ],
      "source": [
        "def trace(matrix: list[list[float]]) -> float:\n",
        "    t=0\n",
        "    for i in range(3):\n",
        "      t=t+matrix[i][i]\n",
        "    return t\n",
        "\n",
        "\n",
        "print(f\"{trace(A)=}\")"
      ]
    },
    {
      "cell_type": "markdown",
      "metadata": {
        "id": "HB31XDGYlEk1"
      },
      "source": [
        "#### 2.3. Vector norm"
      ]
    },
    {
      "cell_type": "markdown",
      "metadata": {
        "id": "mejt0k2AlEk1"
      },
      "source": [
        "Compute the Euclidean norm of vector $B$, which is:\n",
        "$$ ||B|| = \\sqrt{b_1^2 + b_2^2 + b_3^2} $$"
      ]
    },
    {
      "cell_type": "code",
      "execution_count": 18,
      "metadata": {
        "id": "Pu1ADIlslEk2",
        "outputId": "31a8e786-6dd9-4484-b4aa-a372abf444a0",
        "colab": {
          "base_uri": "https://localhost:8080/"
        }
      },
      "outputs": [
        {
          "output_type": "stream",
          "name": "stdout",
          "text": [
            "norm(B)=10.488088481701515\n"
          ]
        }
      ],
      "source": [
        "import math\n",
        "\n",
        "def norm(vector: list[float]) -> float:\n",
        "     return math.sqrt(sum([n**2 for n in vector]))\n",
        "\n",
        "print(f\"{norm(B)=}\")"
      ]
    },
    {
      "cell_type": "markdown",
      "metadata": {
        "id": "EQq20Y9olEk2"
      },
      "source": [
        "#### 2.4. Transpose of matrix"
      ]
    },
    {
      "cell_type": "markdown",
      "metadata": {
        "id": "A_XE9DIblEk2"
      },
      "source": [
        "Write a function to compute the transpose of matrix $A$. The transpose of a matrix $A$ is obtained by swapping its rows and columns.\n",
        "    "
      ]
    },
    {
      "cell_type": "code",
      "execution_count": 19,
      "metadata": {
        "id": "RiS3FeVLlEk2",
        "outputId": "0f6d1583-49cf-4331-bde9-d229f68831ba",
        "colab": {
          "base_uri": "https://localhost:8080/"
        }
      },
      "outputs": [
        {
          "output_type": "stream",
          "name": "stdout",
          "text": [
            "transpose(A)=[[2.0, 1.0, 3.0], [3.0, -1.0, 1.0], [-1.0, 4.0, 2.0]]\n"
          ]
        }
      ],
      "source": [
        "def transpose(matrix: list[list[float]]) -> list[list[float]]:\n",
        "    coll1,coll2,coll3=matrix\n",
        "    transpus=[]\n",
        "    for i in range(3):\n",
        "        row=[coll1[i],coll2[i],coll3[i]]\n",
        "        transpus.append(row)\n",
        "    return transpus\n",
        "\n",
        "print(f\"{transpose(A)=}\")"
      ]
    },
    {
      "cell_type": "markdown",
      "metadata": {
        "id": "iE8P1BWxlEk2"
      },
      "source": [
        "#### 2.5. Matrix-vector multiplication"
      ]
    },
    {
      "cell_type": "markdown",
      "metadata": {
        "id": "UmpQYI0JlEk2"
      },
      "source": [
        "Write a function that multiplies matrix $A$ with vector $B$."
      ]
    },
    {
      "cell_type": "code",
      "execution_count": 23,
      "metadata": {
        "id": "vrp-VFMplEk2",
        "outputId": "a0e4869d-70b7-4804-fc21-ca64a106f175",
        "colab": {
          "base_uri": "https://localhost:8080/"
        }
      },
      "outputs": [
        {
          "output_type": "stream",
          "name": "stdout",
          "text": [
            "multiply(A, B)=[21.0, 27.0, 35.0]\n"
          ]
        }
      ],
      "source": [
        "def multiply(matrix: list[list[float]], vector: list[float]) -> list[float]:\n",
        "    multiply_matrix=[]\n",
        "    for i,rows in enumerate(matrix):\n",
        "      m=0\n",
        "      for j,number in enumerate(vector):\n",
        "        m=m+rows[j]*number\n",
        "      multiply_matrix.append(m)\n",
        "\n",
        "    return multiply_matrix\n",
        "\n",
        "\n",
        "\n",
        "print(f\"{multiply(A, B)=}\")"
      ]
    },
    {
      "cell_type": "markdown",
      "metadata": {
        "id": "2kvGOYeJlEk3"
      },
      "source": [
        "### **3. Solving using Cramer's Rule (1 point)**"
      ]
    },
    {
      "cell_type": "markdown",
      "metadata": {
        "id": "uw84dr2KlEk3"
      },
      "source": [
        "Now that you have explored basic matrix operations, solve the system of linear equations using Cramer's rule.\n",
        "\n",
        "**Cramer's Rule:**\n",
        "\n",
        "Cramer's rule allows you to solve for each unknown $x$, $y$, and $z$ using determinants. For example:\n",
        "$$ x = \\frac{\\text{det}(A_x)}{\\text{det}(A)}, \\quad y = \\frac{\\text{det}(A_y)}{\\text{det}(A)}, \\quad z = \\frac{\\text{det}(A_z)}{\\text{det}(A)} $$\n",
        "where $A_x$, $A_y$, and $A_z$ are matrices formed by replacing the respective column of matrix $A$ with vector $B$."
      ]
    },
    {
      "cell_type": "code",
      "execution_count": 39,
      "metadata": {
        "id": "Ae6wLNK2lEk3",
        "outputId": "e11c6a86-eac2-4901-9a6b-a546da65b011",
        "colab": {
          "base_uri": "https://localhost:8080/"
        }
      },
      "outputs": [
        {
          "output_type": "stream",
          "name": "stdout",
          "text": [
            "solve_cramer(A, B)=[0.35714285714285715, 2.0714285714285716, 1.9285714285714286]\n"
          ]
        }
      ],
      "source": [
        "def solve_cramer(A: list[list[float]], B: list[float]) -> list[float]:\n",
        "    detA = determinant(A)\n",
        "    if detA == 0:\n",
        "        raise ValueError(\"Sistemul nu are soluție unică.\")\n",
        "\n",
        "    n = len(A)\n",
        "    result = []\n",
        "    for col in range(n):\n",
        "        A_col = [row[:] for row in A]\n",
        "        for r in range(n):\n",
        "            A_col[r][col] = B[r]\n",
        "        result.append(determinant(A_col) / detA)\n",
        "    return result\n",
        "\n",
        "print(f\"{solve_cramer(A, B)=}\")\n"
      ]
    },
    {
      "cell_type": "markdown",
      "metadata": {
        "id": "sNP9llcllEk3"
      },
      "source": [
        "### **4. Solving using Inversion (3 points)**"
      ]
    },
    {
      "cell_type": "markdown",
      "metadata": {
        "id": "7i4m_vYylEk3"
      },
      "source": [
        "Finally, solve the system by computing the inverse of matrix $A$ and multiplying it by vector $B$.\n",
        "$$ A \\cdot X = B \\rightarrow X = A^{-1} \\cdot B $$\n",
        "**Adjugate Method for Matrix Inversion:**\n",
        "\n",
        "To find the inverse of matrix $ A $, you can use the adjugate method:\n",
        "$$ A^{-1} = \\frac{1}{\\text{det}(A)} \\times \\text{adj}(A) $$\n",
        "where $\\text{adj}(A)$ is the adjugate (or adjoint) matrix, which is the transpose of the cofactor matrix of $ A $.\n",
        "\n",
        "**Cofactor Matrix:**\n",
        "\n",
        "The cofactor matrix is a matrix where each element is replaced by its cofactor. The cofactor of an element $a_{ij}$ is given by:\n",
        "$$ (-1)^{i+j} \\times \\text{det}(M_{ij}) $$\n",
        "where $M_{ij}$ is the minor of element $a_{ij}$, which is the matrix obtained by removing the $i$-th row and $j$-th column from matrix $A$."
      ]
    },
    {
      "cell_type": "code",
      "execution_count": 40,
      "metadata": {
        "id": "iVouTW8BlEk3",
        "outputId": "ff2d601d-77a1-4d33-fbe1-97f0d614077e",
        "colab": {
          "base_uri": "https://localhost:8080/"
        }
      },
      "outputs": [
        {
          "output_type": "stream",
          "name": "stdout",
          "text": [
            "solve(A, B)=[0.35714285714285715, 2.0714285714285716, 1.9285714285714286]\n"
          ]
        }
      ],
      "source": [
        "def minor(matrix: list[list[float]], i: int, j: int) -> list[list[float]]:\n",
        "    return [row[:j] + row[j+1:] for k, row in enumerate(matrix) if k != i]\n",
        "\n",
        "def cofactor(matrix: list[list[float]]) -> list[list[float]]:\n",
        "    cofactor_matrix=[]\n",
        "    for i,row in enumerate(matrix):\n",
        "      cof_row=[]\n",
        "      for j,number in enumerate(row):\n",
        "        matrix_minor=minor(matrix,i,j)\n",
        "        cofactor=(matrix_minor[0][0]*matrix_minor[1][1]\n",
        "        - matrix_minor[0][1]*matrix_minor[1][0])*((-1)**(i+j))\n",
        "        cof_row.append(cofactor)\n",
        "      cofactor_matrix.append(cof_row)\n",
        "    return cofactor_matrix\n",
        "\n",
        "def adjoint(matrix: list[list[float]]) -> list[list[float]]:\n",
        "    return transpose(cofactor(matrix))\n",
        "\n",
        "def solve(A: list[list[float]], B: list[float]) -> list[float]:\n",
        "    detA = determinant(A)\n",
        "    if detA == 0:\n",
        "        raise ValueError(\"Sistemul nu are soluție unică.\")\n",
        "    adjA = adjoint(A)\n",
        "    num  = multiply(adjA, B)\n",
        "    return [x / detA for x in num]\n",
        "\n",
        "\n",
        "\n",
        "\n",
        "print(f\"{solve(A, B)=}\")"
      ]
    }
  ],
  "metadata": {
    "kernelspec": {
      "display_name": "Python 3",
      "language": "python",
      "name": "python3"
    },
    "language_info": {
      "codemirror_mode": {
        "name": "ipython",
        "version": 3
      },
      "file_extension": ".py",
      "mimetype": "text/x-python",
      "name": "python",
      "nbconvert_exporter": "python",
      "pygments_lexer": "ipython3",
      "version": "3.11.2"
    },
    "colab": {
      "provenance": [],
      "include_colab_link": true
    }
  },
  "nbformat": 4,
  "nbformat_minor": 0
}